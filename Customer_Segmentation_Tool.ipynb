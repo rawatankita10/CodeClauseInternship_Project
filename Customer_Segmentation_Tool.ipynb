{
 "cells": [
  {
   "cell_type": "markdown",
   "id": "f97e864e",
   "metadata": {},
   "source": [
    "# Customer Segmentation Tool\n",
    "This project develops a UI for inputting customer data and applies clustering algorithms to segment customers."
   ]
  },
  {
   "cell_type": "code",
   "execution_count": null,
   "id": "290452b5",
   "metadata": {},
   "outputs": [],
   "source": [
    "import pandas as pd\n",
    "import matplotlib.pyplot as plt\n",
    "from sklearn.cluster import KMeans\n",
    "from sklearn.preprocessing import StandardScaler\n"
   ]
  },
  {
   "cell_type": "markdown",
   "id": "6ab12e98",
   "metadata": {},
   "source": [
    "## Load and Prepare Data"
   ]
  },
  {
   "cell_type": "code",
   "execution_count": null,
   "id": "576fc6f0",
   "metadata": {},
   "outputs": [],
   "source": [
    "data = pd.read_csv('customer_data.csv')\n",
    "data.head()"
   ]
  },
  {
   "cell_type": "markdown",
   "id": "a56e4828",
   "metadata": {},
   "source": [
    "## Data Preprocessing"
   ]
  },
  {
   "cell_type": "code",
   "execution_count": null,
   "id": "3aa57541",
   "metadata": {},
   "outputs": [],
   "source": [
    "scaler = StandardScaler()\n",
    "scaled_data = scaler.fit_transform(data.select_dtypes(include=['float64', 'int64']))"
   ]
  },
  {
   "cell_type": "markdown",
   "id": "2b57571e",
   "metadata": {},
   "source": [
    "## Apply KMeans Clustering"
   ]
  },
  {
   "cell_type": "code",
   "execution_count": null,
   "id": "524aa7d8",
   "metadata": {},
   "outputs": [],
   "source": [
    "kmeans = KMeans(n_clusters=3, random_state=42)\n",
    "data['Cluster'] = kmeans.fit_predict(scaled_data)"
   ]
  },
  {
   "cell_type": "markdown",
   "id": "77c41106",
   "metadata": {},
   "source": [
    "## Visualize Clusters"
   ]
  },
  {
   "cell_type": "code",
   "execution_count": null,
   "id": "52c1ac7a",
   "metadata": {},
   "outputs": [],
   "source": [
    "plt.scatter(data['Feature1'], data['Feature2'], c=data['Cluster'])\n",
    "plt.xlabel('Feature1')\n",
    "plt.ylabel('Feature2')\n",
    "plt.title('Customer Segments')\n",
    "plt.show()"
   ]
  }
 ],
 "metadata": {},
 "nbformat": 4,
 "nbformat_minor": 5
}
